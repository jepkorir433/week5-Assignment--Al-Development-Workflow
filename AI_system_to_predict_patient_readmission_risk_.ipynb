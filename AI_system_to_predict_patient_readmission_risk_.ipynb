{
  "nbformat": 4,
  "nbformat_minor": 0,
  "metadata": {
    "colab": {
      "provenance": [],
      "authorship_tag": "ABX9TyMGgOqoE6wxmxO29NEm63jp",
      "include_colab_link": true
    },
    "kernelspec": {
      "name": "python3",
      "display_name": "Python 3"
    },
    "language_info": {
      "name": "python"
    }
  },
  "cells": [
    {
      "cell_type": "markdown",
      "metadata": {
        "id": "view-in-github",
        "colab_type": "text"
      },
      "source": [
        "<a href=\"https://colab.research.google.com/github/jepkorir433/week5-Assignment--Al-Development-Workflow/blob/main/AI_system_to_predict_patient_readmission_risk_.ipynb\" target=\"_parent\"><img src=\"https://colab.research.google.com/assets/colab-badge.svg\" alt=\"Open In Colab\"/></a>"
      ]
    },
    {
      "cell_type": "code",
      "execution_count": 3,
      "metadata": {
        "colab": {
          "base_uri": "https://localhost:8080/",
          "height": 1000
        },
        "id": "kc87fqMpNaRA",
        "outputId": "8e517418-5fd0-462d-82d5-acd0481434e7"
      },
      "outputs": [
        {
          "output_type": "stream",
          "name": "stdout",
          "text": [
            "Data Preview:\n",
            "        age  time_in_hospital  n_lab_procedures  n_procedures  n_medications  \\\n",
            "0  [70-80)                 8                72             1             18   \n",
            "1  [70-80)                 3                34             2             13   \n",
            "2  [50-60)                 5                45             0             18   \n",
            "3  [70-80)                 2                36             0             12   \n",
            "4  [60-70)                 1                42             0              7   \n",
            "\n",
            "   n_outpatient  n_inpatient  n_emergency medical_specialty       diag_1  \\\n",
            "0             2            0            0           Missing  Circulatory   \n",
            "1             0            0            0             Other        Other   \n",
            "2             0            0            0           Missing  Circulatory   \n",
            "3             1            0            0           Missing  Circulatory   \n",
            "4             0            0            0  InternalMedicine        Other   \n",
            "\n",
            "        diag_2       diag_3 glucose_test A1Ctest change diabetes_med  \\\n",
            "0  Respiratory        Other           no      no     no          yes   \n",
            "1        Other        Other           no      no     no          yes   \n",
            "2  Circulatory  Circulatory           no      no    yes          yes   \n",
            "3        Other     Diabetes           no      no    yes          yes   \n",
            "4  Circulatory  Respiratory           no      no     no          yes   \n",
            "\n",
            "  readmitted  \n",
            "0         no  \n",
            "1         no  \n",
            "2        yes  \n",
            "3        yes  \n",
            "4         no  \n",
            "\n",
            "Columns: Index(['age', 'time_in_hospital', 'n_lab_procedures', 'n_procedures',\n",
            "       'n_medications', 'n_outpatient', 'n_inpatient', 'n_emergency',\n",
            "       'medical_specialty', 'diag_1', 'diag_2', 'diag_3', 'glucose_test',\n",
            "       'A1Ctest', 'change', 'diabetes_med', 'readmitted'],\n",
            "      dtype='object')\n",
            "Confusion Matrix:\n",
            " [[1821  828]\n",
            " [1124 1227]]\n",
            "Precision: 0.60\n",
            "Recall: 0.52\n",
            "\n",
            "Classification Report:\n",
            "               precision    recall  f1-score   support\n",
            "\n",
            "           0       0.62      0.69      0.65      2649\n",
            "           1       0.60      0.52      0.56      2351\n",
            "\n",
            "    accuracy                           0.61      5000\n",
            "   macro avg       0.61      0.60      0.60      5000\n",
            "weighted avg       0.61      0.61      0.61      5000\n",
            "\n"
          ]
        },
        {
          "output_type": "display_data",
          "data": {
            "text/plain": [
              "<Figure size 640x480 with 2 Axes>"
            ],
            "image/png": "[encoded data removed]"
          },
          "metadata": {}
        },
        {
          "output_type": "stream",
          "name": "stdout",
          "text": [
            "Model saved as 'readmission_predictor.pkl'\n"
          ]
        }
      ],
      "source": [
        "import pandas as pd\n",
        "import numpy as np\n",
        "from sklearn.model_selection import train_test_split, GridSearchCV\n",
        "from sklearn.ensemble import RandomForestClassifier\n",
        "from sklearn.metrics import confusion_matrix, precision_score, recall_score, classification_report\n",
        "import seaborn as sns\n",
        "import matplotlib.pyplot as plt\n",
        "import joblib\n",
        "\n",
        "# === Load Your Dataset ===\n",
        "# Replace 'your_data.csv' with your actual uploaded filename\n",
        "df = pd.read_csv('hospital_readmissions.csv')\n",
        "\n",
        "# === Preview & Clean ===\n",
        "print(\"Data Preview:\\n\", df.head())\n",
        "print(\"\\nColumns:\", df.columns)\n",
        "\n",
        "# === Example: Rename / Adjust Columns if Needed ===\n",
        "# df.rename(columns={'old_name': 'new_name'}, inplace=True)\n",
        "\n",
        "# === Encode Categorical Variables ===\n",
        "# Example: Encode Gender\n",
        "if 'gender' in df.columns:\n",
        "    df['gender'] = df['gender'].map({'Male': 0, 'Female': 1})\n",
        "\n",
        "# Identify other categorical columns to encode\n",
        "categorical_cols = ['age', 'medical_specialty', 'diag_1', 'diag_2', 'diag_3', 'glucose_test', 'A1Ctest', 'change', 'diabetes_med']\n",
        "\n",
        "# Apply one-hot encoding to the identified categorical columns\n",
        "df = pd.get_dummies(df, columns=categorical_cols)\n",
        "\n",
        "\n",
        "# === Drop or Fill Missing Values ===\n",
        "df = df.dropna()\n",
        "\n",
        "# === Split Features & Target ===\n",
        "# Replace 'readmitted' with the name of your target column if different\n",
        "X = df.drop('readmitted', axis=1)\n",
        "y = df['readmitted']\n",
        "\n",
        "# Encode target variable if it's not already numeric\n",
        "if y.dtype == 'object':\n",
        "    y = y.map({'yes': 1, 'no': 0})\n",
        "\n",
        "# === Train-Test Split ===\n",
        "X_train, X_test, y_train, y_test = train_test_split(X, y, stratify=y, test_size=0.2, random_state=42)\n",
        "\n",
        "# === Train Model with Hyperparameter Tuning ===\n",
        "rf = RandomForestClassifier(random_state=42)\n",
        "param_grid = {\n",
        "    'n_estimators': [100, 200],\n",
        "    'max_depth': [None, 10, 20],\n",
        "    'min_samples_split': [2, 5]\n",
        "}\n",
        "grid_search = GridSearchCV(rf, param_grid, cv=5, scoring='recall', n_jobs=-1)\n",
        "grid_search.fit(X_train, y_train)\n",
        "\n",
        "best_model = grid_search.best_estimator_\n",
        "\n",
        "# === Evaluate Model ===\n",
        "y_pred = best_model.predict(X_test)\n",
        "\n",
        "conf_matrix = confusion_matrix(y_test, y_pred)\n",
        "precision = precision_score(y_test, y_pred)\n",
        "recall = recall_score(y_test, y_pred)\n",
        "\n",
        "print(\"Confusion Matrix:\\n\", conf_matrix)\n",
        "print(f\"Precision: {precision:.2f}\")\n",
        "print(f\"Recall: {recall:.2f}\")\n",
        "print(\"\\nClassification Report:\\n\", classification_report(y_test, y_pred))\n",
        "\n",
        "# === Plot Confusion Matrix ===\n",
        "sns.heatmap(conf_matrix, annot=True, fmt='d', cmap='Blues')\n",
        "plt.xlabel(\"Predicted\")\n",
        "plt.ylabel(\"Actual\")\n",
        "plt.title(\"Confusion Matrix\")\n",
        "plt.show()\n",
        "\n",
        "# === Save Model for Deployment ===\n",
        "joblib.dump(best_model, 'readmission_predictor.pkl')\n",
        "print(\"Model saved as 'readmission_predictor.pkl'\")"
      ]
    }
  ]
}